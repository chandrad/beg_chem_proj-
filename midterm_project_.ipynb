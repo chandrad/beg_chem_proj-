{
 "cells": [
  {
   "cell_type": "markdown",
   "metadata": {},
   "source": [
    "## **MIDTERM PROJECT -** \n",
    "###For Advanced Process Safety with the guidance of Dr. Tianxing Cai"
   ]
  },
  {
   "cell_type": "markdown",
   "metadata": {},
   "source": [
    "###Combining HAZOP with dynamic simulation—Applications for safety"
   ]
  },
  {
   "cell_type": "markdown",
   "metadata": {},
   "source": [
    "### **Part 1: **\n",
    "####Oxidation of 2-octanol in a semi-batch reactor\n",
    "\n",
    "Preparation and validation of the simulation model as per the [research idea](https://www.google.com/?gws_rd=ssl) \n",
    "\n",
    "`include the paper URL if it is available`\n"
   ]
  },
  {
   "cell_type": "markdown",
   "metadata": {},
   "source": [
    "The below is the python routine to solve the system of First-Order Oridinary Differential Equation using `scipy.optimize.odeint` module"
   ]
  },
  {
   "cell_type": "code",
   "execution_count": 1,
   "metadata": {
    "collapsed": true
   },
   "outputs": [],
   "source": [
    "#Importing the required library:\n",
    "\n",
    "import numpy as np\n",
    "import matplotlib.pyplot as plt\n",
    "from scipy.integrate import odeint\n",
    "import math\n",
    "import seaborn as sns; sns.set() \n",
    "\n",
    "%matplotlib inline\n",
    "\n",
    "np.random.seed(211) \n",
    "\n",
    "#Input Data\n",
    "\n",
    "maA1 = 10**5 # Pre-exponential factor reaction 1 [m3/kmol/s]\n",
    "mpA2 = 10**10 # Pre-exponential factor reaction 2[m3/kmol/s]\n",
    "E1perR = 11300 # Activation temperature reaction 1 [K]\n",
    "E2perR = 12000 # Activation tempetature reaction 2 [K]\n",
    "m1 = 6.6 # Hammett's reaction rate coeff. reaction 1\n",
    "m2 = 2.2 # Hammett's reaction rate coeff. reaction 2\n",
    "RhoOctan = 820.7 # Density of 2-octanol [kg/m3]\n",
    "MwOctan = 130.23 # Molar mass of 2-octanol [kg/kmol]\n",
    "Mw = 63 # Molar mass of HNO3 [kg/kmol]\n",
    "RhoAcid = 1500 # Density of pure nitric acid [kg/m3]\n",
    "RhoCPdos = 2 * 10 ** 6 # Heat capacity of dose [J/m3/K]\n",
    "Tdos = 293.15 # Temperature of feed dose [K]\n",
    "Hnol = 160 * 10 ** 6 # Specific heat of reaction 1 [J/kmol]\n",
    "Hnone = 520 * 10 ** 6 # Specific heat of reaction 2 [J/kmole]\n",
    "RhoCoolant = 1000 # The density of coolant [kg/m3]\n",
    "CpCoolant = 4183 # Heat capacity of coolant [J/kg/K]\n",
    "Vj = 1.5 # Volume of the jacket [m3]\n",
    "\n",
    "\n",
    "#Initial Data\n",
    "\n",
    "t_0 = 0.0001 # Starting time\n",
    "Np_0 = 0 # Number of moles of 2-octanone (P) at t = t0\n",
    "Nx_0 = 0 # Number of moles of carboxylic acids (X) at t = t0\n",
    "Vr0 = 1.5 # Initial volume in a reactor [m3]\n",
    "Y = 0.035 # Initial concentr. of nitrosonium ion Y=Nb0/NaF\n",
    "Percent = 0.6 # Initial mass concentr of nitr. acid sol. [%]\n",
    "Tr_0 = 260 # Temp. in the reactor at t = t0 (K)\n",
    "Gamma0 = 5.4 * 10 ** 6 # Initial heat capacity of the system [J/K]\n",
    "UA0 = 1500 # Initial cool. surface heat trans. coeff.[W/K]\n",
    "Tcool_0 = 273.15 # Coolant exit temp. at t = t0 (K)\n",
    "Tcool_IN = 260 # Initial coolant temperature [K]\n",
    "\n",
    "#Final Data\n",
    "\n",
    "tf = 72000 # Final time (s)\n",
    "Vdos1 = 0.6 # Final volume of the dose [m3]\n",
    "tdos = 36000 # dosing time [s], 10h\n",
    "UA1 = 2100 # Final cool. surface heat trans. coeff. [W/K]\n",
    "\n",
    "\n",
    "# Equations\n",
    "\n",
    "\n",
    "def Mymodel(y,t):\n",
    "    NnO = Vr0 * Percent * RhoAcid / float(Mw) # Initial number of mole of HNO3 [kmole]\n",
    "    wt = NnO * Mw / float(Vr0 * RhoAcid) # Mass concentr. of nitric acid sol [%/100%]\n",
    "    H = -0.6221 - 3.7214 * wt - 1.5714 * wt ** 2 # Hammett's acidity function\n",
    "    Epsd = Vdos1/float(Vdos1+Vr0) # Volume fraction of dispersed phase\n",
    "    NaF = (Vdos1 * RhoOctan) / float(MwOctan) # Total amount of 2-octanol (a) fed [kmol]\n",
    "    tdos = 3600\n",
    "    if t in range(0,3600):\n",
    "        Theta = t / float(tdos)\n",
    "    else:\n",
    "        Theta=1  # Dimensionless time up to t=tdos\n",
    "    CaOrg = (Theta * NaF - y[0] - y[1]) / float(Vdos1 * Theta) # Concentr of a in org phase [kmole/m3]\n",
    "    CpOrg = y[0] / float(Vdos1 * Theta) # Concentr. of (P) in org phase [kmol/m3]\n",
    "    CbAq = (y[0] + Y * NaF) /float(Vr0) # Concentr. of (B) in aq. phase [kmole/m3]\n",
    "    Fw = 100 / 60 * 10 ^ (-3)\n",
    "    NaF = (Vdos1 * RhoOctan) / float(MwOctan) # Total amount of 2-octanol (a) fed [kmol]\n",
    "    CnAq = (NnO - Y * NaF - y[0] - 2 * y[1]) / float(Vr0) # Concentr. of HNO3 in the aq. phase [kmol/m3]\n",
    "    k1 = (maA1)*(math.e)**(-E1perR /float( y[2] - (m1*H))) # Specific reaction rate 1\n",
    "    k2 = (mpA2)*(math.e)**(-E2perR /float(y[2] - (m2*H))) # Specific reaction rate 2 \n",
    "    r1 = k1*CaOrg*CbAq*(1-Epsd) # Reaction rate of a and b to p[kmol/m3/s]\n",
    "    r2 = k2*CpOrg*CbAq*(1-Epsd) # Reaction rate of p and b to x[kmol/m3/s]\n",
    "    dy0 = (r1-r2)*Vr0/(float(1-Epsd))\n",
    "    dy1 = (r1 * Vr0 / float(1 -Epsd))\n",
    "    Phi = Vdos1 / tdos # Volumetric flow rate of the feed [m3/s]\n",
    "    Qdos = Phi * RhoCPdos * (Tdos - y[2]) # Heat input due to reactant addition [W]\n",
    "    UAcool = UA0 + (UA1 - UA0) * Theta # Cooling surface heat transfer coefficient [W/K]\n",
    "    Qcool = UAcool * (y[3] - y[2]) # Heat removed by the cooling jacket [W]\n",
    "    Gamma = Gamma0 + RhoCPdos * Phi * t # Total heat capacity of the system [J/K]\n",
    "    Qnol = r1 * Vr0 * Hnol / float(1 - Epsd) # Heat of reaction, 1  [W]\n",
    "    Qnone = r2 * Vr0 * Hnone / float(1 - Epsd) # Heat of reaction, 2 [W]\n",
    "    Qr = Qnol + Qnone # Sum of the heat of reaction the reactions [W)\n",
    "    dy2 = (Qr + Qdos + Qcool) / float(Gamma)  #Reactor energy balance (Tr in K)\n",
    "    dy3 = (Fw * (Tcool_IN - y[3]) - Qcool / float(RhoCoolant * CpCoolant)) / float(Vj)  #Jacket energy balance (T in K)\n",
    "    return[dy0, dy1, dy2, dy3]\n",
    "\n",
    "#Input Data\n",
    "\n",
    "maA1 = 10**5 # Pre-exponential factor reaction 1 [m3/kmol/s]\n",
    "mpA2 = 10**10 # Pre-exponential factor reaction 2[m3/kmol/s]\n",
    "E1perR = 11300 # Activation temperature reaction 1 [K]\n",
    "E2perR = 12000 # Activation tempetature reaction 2 [K]\n",
    "m1 = 6.6 # Hammett's reaction rate coeff. reaction 1\n",
    "m2 = 2.2 # Hammett's reaction rate coeff. reaction 2\n",
    "RhoOctan = 820.7 # Density of 2-octanol [kg/m3]\n",
    "MwOctan = 130.23 # Molar mass of 2-octanol [kg/kmol]\n",
    "Mw = 63 # Molar mass of HNO3 [kg/kmol]\n",
    "RhoAcid = 1500 # Density of pure nitric acid [kg/m3]\n",
    "RhoCPdos = 2 * 10 ** 6 # Heat capacity of dose [J/m3/K]\n",
    "Tdos = 293.15 # Temperature of feed dose [K]\n",
    "Hnol = 160 * 10 ** 6 # Specific heat of reaction 1 [J/kmol]\n",
    "Hnone = 520 * 10 ** 6 # Specific heat of reaction 2 [J/kmole]\n",
    "RhoCoolant = 1000 # The density of coolant [kg/m3]\n",
    "CpCoolant = 4183 # Heat capacity of coolant [J/kg/K]\n",
    "Vj = 1.5 # Volume of the jacket [m3]\n",
    "\n",
    "\n",
    "#Initial Data\n",
    "\n",
    "t_0 = 0.0001 # Starting time\n",
    "Np_0 = 0 # Number of moles of 2-octanone (P) at t = t0\n",
    "Nx_0 = 0 # Number of moles of carboxylic acids (X) at t = t0\n",
    "Vr0 = 1.5 # Initial volume in a reactor [m3]\n",
    "Y = 0.035 # Initial concentr. of nitrosonium ion Y=Nb0/NaF\n",
    "Percent = 0.6 # Initial mass concentr of nitr. acid sol. [%]\n",
    "Tr_0 = 260 # Temp. in the reactor at t = t0 (K)\n",
    "Gamma0 = 5.4 * 10 ** 6 # Initial heat capacity of the system [J/K]\n",
    "UA0 = 1500 # Initial cool. surface heat trans. coeff.[W/K]\n",
    "Tcool_0 = 273.15 # Coolant exit temp. at t = t0 (K)\n",
    "Tcool_IN = 260 # Initial coolant temperature [K]\n",
    "\n",
    "#Final Data\n",
    "\n",
    "tf = 72000 # Final time (s)\n",
    "Vdos1 = 0.6 # Final volume of the dose [m3]\n",
    "tdos = 36000 # dosing time [s], 10h\n",
    "UA1 = 2100 # Final cool. surface heat trans. coeff. [W/K]\n",
    "\n"
   ]
  },
  {
   "cell_type": "markdown",
   "metadata": {},
   "source": [
    "#### Defining the python main function "
   ]
  },
  {
   "cell_type": "code",
   "execution_count": 2,
   "metadata": {
    "collapsed": true
   },
   "outputs": [],
   "source": [
    "def main():\n",
    "    # initial values of y0,y1,y2,y3 at t=0\n",
    "    yinit = [0.0,0.0,260,273.15]\n",
    "    # Times at which the solution is to be computed.\n",
    "    t = np.linspace(0.0001, tf, 10000)\n",
    "    # Solve the equation.\n",
    "    y = odeint(Mymodel, yinit , t)\n",
    "    print 'printing the y array: ', y\n",
    "    print 'printing the dimension of the array y: ', y.shape\n",
    "    print 'printing the system y3: ', y[:,3]\n",
    "    f, axarr = plt.subplots(2, 2)\n",
    "    axarr[0, 0].plot(t, y[:,0])\n",
    "    axarr[0, 0].set_title('t vs y0')\n",
    "    axarr[0, 1].scatter(t, y[:,1])\n",
    "    axarr[0, 1].set_title('t vs y1')\n",
    "    axarr[1, 0].plot(t, y[:,2])\n",
    "    axarr[1, 0].set_title('t vs y2')\n",
    "    axarr[1, 1].scatter(t, y[:,3])\n",
    "    axarr[1, 1].set_title('t vs y3')\n",
    "    \n",
    "    #astack = np.c_[t, y[:,0],y[:,1],y[:,2],y[:,3]]\n",
    "    #np.savetxt('approx_1.csv',astack, delimiter=',', header= )"
   ]
  },
  {
   "cell_type": "code",
   "execution_count": 5,
   "metadata": {
    "collapsed": false
   },
   "outputs": [
    {
     "name": "stdout",
     "output_type": "stream",
     "text": [
      "Excess work done on this call (perhaps wrong Dfun type).\n",
      "Run with full_output = 1 to get quantitative information.\n",
      "printing the y array:  [[  0.00000000e+000   0.00000000e+000   2.60000000e+002   2.73150000e+002]\n",
      " [  2.49716925e-011   3.78115642e+000   3.84050715e+003   4.79055157e+007]\n",
      " [  2.44029516e-312   2.77047770e-309   2.46151512e-312   2.77047770e-309]\n",
      " ..., \n",
      " [  2.17822911e-315   2.17783291e-315   2.17816318e-315   2.17814121e-315]\n",
      " [  2.17785488e-315   2.17794287e-315   2.17803101e-315   2.17805299e-315]\n",
      " [  2.17807496e-315   2.17800903e-315   2.17796508e-315   2.17809694e-315]]\n",
      "printing the dimension of the array y:  (10000L, 4L)\n",
      "printing the system y3:  [  2.73150000e+002   4.79055157e+007   2.77047770e-309 ...,\n",
      "   2.17814121e-315   2.17805299e-315   2.17809694e-315]\n"
     ]
    },
    {
     "data": {
      "image/png": "[encoded data removed]",
      "text/plain": [
       "<matplotlib.figure.Figure at 0x1a172860>"
      ]
     },
     "metadata": {},
     "output_type": "display_data"
    }
   ],
   "source": [
    "if __name__==\"__main__\":\n",
    "    main()"
   ]
  },
  {
   "cell_type": "markdown",
   "metadata": {},
   "source": [
    "### **Part 2**: Need to apply the result for HAZOP study (to be continued ...)"
   ]
  },
  {
   "cell_type": "code",
   "execution_count": null,
   "metadata": {
    "collapsed": true
   },
   "outputs": [],
   "source": []
  },
  {
   "cell_type": "markdown",
   "metadata": {},
   "source": [
    "**References** (for example)\n",
    "\n",
    "[Stress-induced mutagenesis and complex adaptation](https://www.google.com/), by Yoav Ram and Lilach Hadany (Proceedings B, 2014). \n",
    "\n",
    "    "
   ]
  },
  {
   "cell_type": "code",
   "execution_count": null,
   "metadata": {
    "collapsed": true
   },
   "outputs": [],
   "source": []
  }
 ],
 "metadata": {
  "kernelspec": {
   "display_name": "Python 2",
   "language": "python",
   "name": "python2"
  },
  "language_info": {
   "codemirror_mode": {
    "name": "ipython",
    "version": 2
   },
   "file_extension": ".py",
   "mimetype": "text/x-python",
   "name": "python",
   "nbconvert_exporter": "python",
   "pygments_lexer": "ipython2",
   "version": "2.7.10"
  }
 },
 "nbformat": 4,
 "nbformat_minor": 0
}
