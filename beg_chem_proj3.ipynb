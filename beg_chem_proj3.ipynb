{
 "cells": [
  {
   "cell_type": "code",
   "execution_count": 1,
   "metadata": {
    "collapsed": true
   },
   "outputs": [],
   "source": [
    "#Importing the required library:\n",
    "\n",
    "import numpy as np\n",
    "import matplotlib.pyplot as plt\n",
    "from scipy.integrate import odeint\n",
    "from __future__ import division\n",
    "\n",
    "%matplotlib inline\n"
   ]
  },
  {
   "cell_type": "code",
   "execution_count": 2,
   "metadata": {
    "collapsed": true
   },
   "outputs": [],
   "source": [
    "#Input Data\n",
    "maA1 = 10 ^ 5 # Pre-exponential factor reaction 1 [m3/kmol/s]\n",
    "mpA2 = 10 ^ 10 # Pre-exponential factor reaction 2[m3/kmol/s]\n",
    "E1perR = 11300 # Activation temperature reaction 1 [K]\n",
    "E2perR = 12000 # Activation tempetature reaction 2 [K]\n",
    "m1 = 6.6 # Hammett's reaction rate coeff. reaction 1\n",
    "m2 = 2.2 # Hammett's reaction rate coeff. reaction 2\n",
    "RhoOctan = 820.7 # Density of 2-octanol [kg/m3]\n",
    "MwOctan = 130.23 # Molar mass of 2-octanol [kg/kmol]\n",
    "Mw = 63 # Molar mass of HNO3 [kg/kmol]\n",
    "RhoAcid = 1500 # Density of pure nitric acid [kg/m3]\n",
    "RhoCPdos = 2 * 10 ^ 6 # Heat capacity of dose [J/m3/K]\n",
    "Tdos = 293.15 # Temperature of feed dose [K]\n",
    "Hnol = 160 * 10 ^ 6 # Specific heat of reaction 1 [J/kmol]\n",
    "Hnone = 520 * 10 ^ 6 # Specific heat of reaction 2 [J/kmole]\n",
    "RhoCoolant = 1000 # The density of coolant [kg/m3]\n",
    "CpCoolant = 4183 # Heat capacity of coolant [J/kg/K]\n",
    "Vj = 1.5 # Volume of the jacket [m3]"
   ]
  },
  {
   "cell_type": "code",
   "execution_count": 3,
   "metadata": {
    "collapsed": true
   },
   "outputs": [],
   "source": [
    "#Initial Data\n",
    "t0 = 0.0001 # Starting time\n",
    "Np(0) = 0 # Number of moles of 2-octanone (P) at t = t0\n",
    "Nx(0) = 0 # Number of moles of carboxylic acids (X) at t = t0\n",
    "Vr0 = 1.5 # Initial volume in a reactor [m3]\n",
    "Y = 0.035 # Initial concentr. of nitrosonium ion Y=Nb0/NaF\n",
    "Percent = 0.6 # Initial mass concentr of nitr. acid sol. [%]\n",
    "Tr(0) = 260 # Temp. in the reactor at t = t0 (K)\n",
    "Gamma0 = 5.4 * 10 ^ 6 # Initial heat capacity of the system [J/K]\n",
    "UA0 = 1500 # Initial cool. surface heat trans. coeff.[W/K]\n",
    "Tcool(0) = 273.15 # Coolant exit temp. at t = t0 (K)\n",
    "Tcool_IN = 260 # Initial coolant temperature [K]"
   ]
  },
  {
   "cell_type": "code",
   "execution_count": 4,
   "metadata": {
    "collapsed": true
   },
   "outputs": [],
   "source": [
    "#Final Data\n",
    "tf = 72000 # Final time (s)\n",
    "Vdos1 = 0.6 # Final volume of the dose [m3]\n",
    "tdos = 36000 # dosing time [s], 10h\n",
    "UA1 = 2100 # Final cool. surface heat trans. coeff. [W/K]\n"
   ]
  },
  {
   "cell_type": "code",
   "execution_count": 6,
   "metadata": {
    "collapsed": false
   },
   "outputs": [
    {
     "ename": "SyntaxError",
     "evalue": "invalid syntax (<ipython-input-6-ad4b40b18916>, line 15)",
     "output_type": "error",
     "traceback": [
      "\u001b[1;36m  File \u001b[1;32m\"<ipython-input-6-ad4b40b18916>\"\u001b[1;36m, line \u001b[1;32m15\u001b[0m\n\u001b[1;33m    If t <= tdos:\u001b[0m\n\u001b[1;37m       ^\u001b[0m\n\u001b[1;31mSyntaxError\u001b[0m\u001b[1;31m:\u001b[0m invalid syntax\n"
     ]
    }
   ],
   "source": [
    "#Equations\n",
    "\n",
    "d(Np)/d(t) = (r1 - r2) * Vr0 / (1 - Epsd) # Mole balance for 2-octanone (P)\n",
    "d(Nx)/d(t) = r2 * Vr0 / (1 - Epsd) # Mole balance for carboxylic acids (X)\n",
    "r1 = k1 * CaOrg * CbAq * (1 - Epsd) # Reaction rate of a and b to p[kmol/m3/s]\n",
    "r2 = k2 * CpOrg * CbAq * (1 - Epsd) # Reaction rate of p and b to x[kmol/m3/s]\n",
    "Epsd = Vdos1 / (Vdos1 + Vr0) # Volume fraction of dispersed phase\n",
    "k1 = maA1 * exp(-E1perR / Tr - m1 * H) # Specific reaction rate 1\n",
    "k2 = mpA2 * exp(-E2perR / Tr - m2 * H) # Specific reaction rate 2\n",
    "CaOrg = (Theta * NaF - Np - Nx) / (Vdos1 * Theta) # Concentr of a in org phase [kmole/m3]\n",
    "CpOrg = Np / (Vdos1 * Theta) # Concentr. of (P) in org phase [kmol/m3]\n",
    "CbAq = (Np + Y * NaF) / Vr0 # Concentr. of (B) in aq. phase [kmole/m3]\n",
    "H = -0.6221 - 3.7214 * wt - 1.5714 * wt ^ 2 # Hammett's acidity function\n",
    "wt = Nn * Mw / (Vr0 * RhoAcid) # Mass concentr. of nitric acid sol [%/100%]\n",
    "If t <= tdos:\n",
    " Theta = t / float(tdos)\n",
    "    else: \n",
    " Theta = 1\n",
    "    return Theta    # Dimensionless time up to t=tdos\n",
    "NaF = Vdos1 * RhoOctan / MwOctan # Total amount of 2-octanol (a) fed [kmol]\n",
    "CnAq = (NnO - Y * NaF - Np - 2 * Nx) / Vr0 # Concentr. of HNO3 in the aq. phase [kmol/m3]\n",
    "NnO = Vr0 * Percent * RhoAcid / Mw # Initial number of mole of HNO3 [kmole]\n",
    "d(Tr)/d(t) = (Qr + Qdos + Qcool) / Gamma # Reactor energy balance (Tr in K)\n",
    "Qr = Qnol + Qnone # Sum of the heat of reaction the reactions [W)\n",
    "Qdos = Phi * RhoCPdos * (Tdos - Tr) # Heat input due to reactant addition [W]\n",
    "Qcool = UAcool * (Tcool - Tr) # Heat removed by the cooling jacket [W]\n",
    "Gamma = Gamma0 + RhoCPdos * Phi * t # Total heat capacity of the system [J/K]\n",
    "Qnol = r1 * Vr0 * Hnol / (1 - Epsd) # Heat of reaction, 1  [W]\n",
    "Qnone = r2 * Vr0 * Hnone / (1 - Epsd) # Heat of reaction, 2 [W]\n",
    "Phi = Vdos1 / tdos # Volumetric flow rate of the feed [m3/s]\n",
    "UAcool = UA0 + (UA1 - UA0) * Theta # Cooling surface heat transfer coefficient [W/K]\n",
    "d(Tcool)/d(t) = (Fw * (Tcool_IN - Tcool) - Qcool / (RhoCoolant * CpCoolant)) / Vj # Jacket energy balance (T in K)\n",
    "\n",
    "\n"
   ]
  },
  {
   "cell_type": "code",
   "execution_count": null,
   "metadata": {
    "collapsed": true
   },
   "outputs": [],
   "source": []
  }
 ],
 "metadata": {
  "kernelspec": {
   "display_name": "Python 2",
   "language": "python",
   "name": "python2"
  },
  "language_info": {
   "codemirror_mode": {
    "name": "ipython",
    "version": 2
   },
   "file_extension": ".py",
   "mimetype": "text/x-python",
   "name": "python",
   "nbconvert_exporter": "python",
   "pygments_lexer": "ipython2",
   "version": "2.7.10"
  }
 },
 "nbformat": 4,
 "nbformat_minor": 0
}
