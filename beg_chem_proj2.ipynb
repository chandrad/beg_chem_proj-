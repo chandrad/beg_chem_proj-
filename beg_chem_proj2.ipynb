{
 "cells": [
  {
   "cell_type": "code",
   "execution_count": 1,
   "metadata": {
    "collapsed": true
   },
   "outputs": [],
   "source": [
    "import numpy as np\n",
    "from scipy import integrate\n",
    "\n",
    "def solvr(Y, t):\n",
    "    return [Y[1], -2 * Y[0]-Y[1]]"
   ]
  },
  {
   "cell_type": "code",
   "execution_count": 2,
   "metadata": {
    "collapsed": false
   },
   "outputs": [
    {
     "name": "stdout",
     "output_type": "stream",
     "text": [
      "[[  1.00000000e+00   0.00000000e+00]\n",
      " [  9.99900350e-01  -1.98996537e-02]\n",
      " [  9.99602664e-01  -3.95973935e-02]\n",
      " ..., \n",
      " [  1.24787563e-06  -5.67154472e-06]\n",
      " [  1.19125060e-06  -5.63926802e-06]\n",
      " [  1.13494900e-06  -5.60619321e-06]]\n"
     ]
    }
   ],
   "source": [
    "def main():\n",
    "    a_t = np.arange(0, 25.0, 0.01)\n",
    "    asol = integrate.odeint(solvr, [1, 0], a_t)\n",
    "    print(asol)\n",
    "\n",
    "if __name__ == '__main__':\n",
    "    main()"
   ]
  },
  {
   "cell_type": "code",
   "execution_count": 3,
   "metadata": {
    "collapsed": true
   },
   "outputs": [],
   "source": [
    "def main():\n",
    "    a_t = np.arange(0, 25.0, 0.01)\n",
    "    asol = integrate.odeint(solvr, [1, 0], a_t)\n",
    "    astack = np.c_[a_t, asol[:,0], asol[:, 1]]\n",
    "    np.savetxt('approx.csv', astack, delimiter=',', header='t, y, yd', comments='')"
   ]
  },
  {
   "cell_type": "code",
   "execution_count": 4,
   "metadata": {
    "collapsed": false
   },
   "outputs": [],
   "source": [
    "import os \n",
    "os.chdir(r\"C:\\Users\\sravan\\Desktop\\mid_term\\python_project\")\n"
   ]
  },
  {
   "cell_type": "code",
   "execution_count": 5,
   "metadata": {
    "collapsed": false
   },
   "outputs": [
    {
     "data": {
      "text/plain": [
       "'C:\\\\Users\\\\sravan\\\\Desktop\\\\mid_term\\\\python_project'"
      ]
     },
     "execution_count": 5,
     "metadata": {},
     "output_type": "execute_result"
    }
   ],
   "source": [
    "os.getcwd()"
   ]
  },
  {
   "cell_type": "code",
   "execution_count": 6,
   "metadata": {
    "collapsed": true
   },
   "outputs": [],
   "source": [
    "def main():\n",
    "    a_t = np.arange(0, 25.0, 0.01)\n",
    "    asol = integrate.odeint(solvr, [1, 0], a_t)\n",
    "    astack = np.c_[a_t, asol[:,0], asol[:, 1]]\n",
    "    np.savetxt('approx.csv', astack, delimiter=',', header='t, y, yd', comments='')"
   ]
  },
  {
   "cell_type": "code",
   "execution_count": 8,
   "metadata": {
    "collapsed": true
   },
   "outputs": [],
   "source": [
    "if __name__ == '__main__':\n",
    "    main()"
   ]
  },
  {
   "cell_type": "code",
   "execution_count": null,
   "metadata": {
    "collapsed": true
   },
   "outputs": [],
   "source": []
  }
 ],
 "metadata": {
  "kernelspec": {
   "display_name": "Python 2",
   "language": "python",
   "name": "python2"
  },
  "language_info": {
   "codemirror_mode": {
    "name": "ipython",
    "version": 2
   },
   "file_extension": ".py",
   "mimetype": "text/x-python",
   "name": "python",
   "nbconvert_exporter": "python",
   "pygments_lexer": "ipython2",
   "version": "2.7.10"
  }
 },
 "nbformat": 4,
 "nbformat_minor": 0
}
